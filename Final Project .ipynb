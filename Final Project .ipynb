{
 "cells": [
  {
   "cell_type": "markdown",
   "id": "5585f001",
   "metadata": {},
   "source": [
    "# Supérate's Experience"
   ]
  },
  {
   "cell_type": "markdown",
   "id": "ee0dafda",
   "metadata": {},
   "source": [
    "## Marta Phillips\n",
    "### Computing’s Experience\n",
    "\n",
    "Throughout these three years in ¡Supérate!, specifically in Computing’s subject, I have learned a lot of thing that I’ve never imagined that I could learn how to do them. When I was on my first year in ¡Supérate!, I was so afraid about computing because it was not to my liking at this time, and even I could not understand the topics that Teacher Alexis were teaching us. But, when we were learning about Python, we started to solve some problems and creating small programs, I had to learn by myself how to do these things and I really like it because I was able to solve math’s problems using Python, that was amazing during this year. Now with Teacher Nashly, this knowledge increased in this last year, because I can understand a little a program and basics things in Python, create small ones and know about libraries and dimensions only with Python, and it is unbelievable that I could learn this.\n",
    "Another tool or program that I could learn really well is Microsoft Excel, now I can do charts, graphics, use formulas and I can even pass data from one workbook to another, and those are things that I can now find easy. Moreover, I could pass an exam about it, when before I could not even do a sum using Excel, and it is impressive. \n",
    "Also, I learned a little bit about PowerBi, which is a challenge to understand well, I can create a webpage using HTML and add little details with CSS and a lot of things more. I was really able to acquire a great mountain of knowledge and tools during these three years at ¡Supérate!, and I am very grateful for that.\n"
   ]
  },
  {
   "cell_type": "markdown",
   "id": "8ea02326",
   "metadata": {},
   "source": [
    "# Grecia Pavón"
   ]
  },
  {
   "cell_type": "markdown",
   "id": "904b9203",
   "metadata": {},
   "source": [
    "### Learnings in Superate! \n",
    " \n",
    "In my first year I learned about python, when the teacher explains the functions, the things that you can make with python I feel to need learning more about python, other thing that I also remember is the teacher Alexis teach us how to resolve logical problem it was very functional for me because this year I have to exam for apply a scholarship and put logical problem and I knew how to resolve it. Also I learned about the correct form to use excel, word and power point.\n",
    "In my second year I had to choose a route, I was between in route 2 and 3 but finally I choose route 3 because I like python and I want to learn more about this and this was a difficult route because we to have analyze a lot and I like the difficult. After I learned about PowerBI this is a data analysis program with this program we have to show reports of our work. Also I learned about how to create an online page with HTML, I remember that together with my partner Dylan we create a web page about Panamanian fauna and we have to put an image that repeat in all background and put the link that will send us to another page.\n",
    "In this year I learned many important things like Excel before I knew how to use Excel, but this year I learned many things, for example how to insert a minigraph, the name of the parts in English, many functions and other things. \n"
   ]
  },
  {
   "cell_type": "markdown",
   "id": "8374f57e",
   "metadata": {},
   "source": [
    "# Luis Palomeque"
   ]
  },
  {
   "cell_type": "markdown",
   "id": "28a2e6a8",
   "metadata": {},
   "source": [
    "### Essay \n",
    "This experience in the three years of computer science in superate has been a lot of learning for my job training I feel that I will not go blank to a well-expanded labor field and that it is constantly being updated for example in all companies Excel is used or is It uses a programming code, a database is used to manage the company's accounts and I feel that for what I want to study I feel prepared to apply for a job with my knowledge of excel I can assure that if they put me in a job position As an accountant I can defend myself with my basic knowledge of computer science I have learned to make presentations to make minigraphic graphs how to put conditions in excel how to create a dynamic table. \n",
    "\n",
    "I can put my knowledge of programming languages into practice in the workplace since I could acquire more experience and knowledge than I already have. These three years of computing in Superate have taught me that the world of computing is quite broad and complex at the same time. \n",
    "\n",
    "I take with me the knowledge of microsoft programs and the phython language and programs like anaconda that are dynamic to create codes and create graphics with phython codes and I also know the different libraries such as panda, in addition to the knowledge acquired during these three years. They help a lot in my curriculum. I take the lived experience of what it is to program to manage databases and create graphs with put passwords to ecxel jobs, how to delete table formats and how to convert tables to range and vice versa. "
   ]
  },
  {
   "cell_type": "markdown",
   "id": "5e0a712b",
   "metadata": {},
   "source": [
    "# FirstProblem - #2\n",
    "You have an array (called myArray) with 5 elements (integers in the range of\n",
    " 1 to 100). Write a Python program that print the highest number in the array\n",
    "(If repeated, only print once).\n",
    "The program should only print the number, without any text."
   ]
  },
  {
   "cell_type": "code",
   "execution_count": 29,
   "id": "883a9bc0",
   "metadata": {},
   "outputs": [
    {
     "data": {
      "text/plain": [
       "array([81, 66, 94, 22, 18])"
      ]
     },
     "execution_count": 29,
     "metadata": {},
     "output_type": "execute_result"
    }
   ],
   "source": [
    "import numpy as np\n",
    "myArray= np.random.randint(1,100, size=(5))\n",
    "myArray"
   ]
  },
  {
   "cell_type": "code",
   "execution_count": 30,
   "id": "6e7c679b",
   "metadata": {
    "scrolled": true
   },
   "outputs": [
    {
     "name": "stdout",
     "output_type": "stream",
     "text": [
      "94\n"
     ]
    }
   ],
   "source": [
    "max = myArray[0]    \n",
    "   \n",
    "for i in range(0, len(myArray)):    \n",
    "    \n",
    "   if(myArray[i] > max):    \n",
    "       max = myArray[i];    \n",
    "print(max)"
   ]
  },
  {
   "cell_type": "markdown",
   "id": "2458528c",
   "metadata": {},
   "source": [
    "# Second Problem - #6\n",
    "Create a function called removeDuplicates which, given an unordered\n",
    "array, returns a new array with no duplicate elements."
   ]
  },
  {
   "cell_type": "code",
   "execution_count": 35,
   "id": "ed2e2b1c",
   "metadata": {},
   "outputs": [
    {
     "data": {
      "text/plain": [
       "['U',\n",
       " 'U',\n",
       " 'E',\n",
       " 'E',\n",
       " 'Z',\n",
       " 'Z',\n",
       " 'B',\n",
       " 'B',\n",
       " 'B',\n",
       " 'B',\n",
       " 'E',\n",
       " 'U',\n",
       " 'U',\n",
       " 'E',\n",
       " 'Z',\n",
       " 'Z',\n",
       " 'E',\n",
       " 'U',\n",
       " 'Z',\n",
       " 'E',\n",
       " 'U',\n",
       " 'U']"
      ]
     },
     "execution_count": 35,
     "metadata": {},
     "output_type": "execute_result"
    }
   ],
   "source": [
    "import numpy as np\n",
    "myArray= [\"U\",\"U\",\"E\",\"E\",\"Z\",\"Z\",\"B\",\"B\",\"B\",\"B\",\"E\",\"U\",\"U\",\"E\",\n",
    "          \"Z\",\"Z\",\"E\",\"U\",\"Z\",\"E\",\"U\",\"U\"]\n",
    "myArray"
   ]
  },
  {
   "cell_type": "code",
   "execution_count": 36,
   "id": "edc6c2a6",
   "metadata": {},
   "outputs": [
    {
     "data": {
      "text/plain": [
       "{'B', 'E', 'U', 'Z'}"
      ]
     },
     "execution_count": 36,
     "metadata": {},
     "output_type": "execute_result"
    }
   ],
   "source": [
    "set(myArray)"
   ]
  }
 ],
 "metadata": {
  "kernelspec": {
   "display_name": "Python 3",
   "language": "python",
   "name": "python3"
  },
  "language_info": {
   "codemirror_mode": {
    "name": "ipython",
    "version": 3
   },
   "file_extension": ".py",
   "mimetype": "text/x-python",
   "name": "python",
   "nbconvert_exporter": "python",
   "pygments_lexer": "ipython3",
   "version": "3.8.8"
  }
 },
 "nbformat": 4,
 "nbformat_minor": 5
}
